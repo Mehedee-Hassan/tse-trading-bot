{
 "cells": [
  {
   "cell_type": "code",
   "execution_count": 1,
   "id": "2e4f4287",
   "metadata": {},
   "outputs": [],
   "source": [
    "import pandas as pd"
   ]
  },
  {
   "cell_type": "code",
   "execution_count": 27,
   "id": "dcfec857",
   "metadata": {},
   "outputs": [],
   "source": [
    "df = pd.DataFrame({'a':[100,200,100,200],'b':[100,200,300,400]})"
   ]
  },
  {
   "cell_type": "code",
   "execution_count": 28,
   "id": "5f3a22ed",
   "metadata": {},
   "outputs": [
    {
     "data": {
      "text/html": [
       "<div>\n",
       "<style scoped>\n",
       "    .dataframe tbody tr th:only-of-type {\n",
       "        vertical-align: middle;\n",
       "    }\n",
       "\n",
       "    .dataframe tbody tr th {\n",
       "        vertical-align: top;\n",
       "    }\n",
       "\n",
       "    .dataframe thead th {\n",
       "        text-align: right;\n",
       "    }\n",
       "</style>\n",
       "<table border=\"1\" class=\"dataframe\">\n",
       "  <thead>\n",
       "    <tr style=\"text-align: right;\">\n",
       "      <th></th>\n",
       "      <th>a</th>\n",
       "      <th>b</th>\n",
       "    </tr>\n",
       "  </thead>\n",
       "  <tbody>\n",
       "    <tr>\n",
       "      <th>0</th>\n",
       "      <td>100</td>\n",
       "      <td>100</td>\n",
       "    </tr>\n",
       "    <tr>\n",
       "      <th>1</th>\n",
       "      <td>200</td>\n",
       "      <td>200</td>\n",
       "    </tr>\n",
       "    <tr>\n",
       "      <th>2</th>\n",
       "      <td>100</td>\n",
       "      <td>300</td>\n",
       "    </tr>\n",
       "    <tr>\n",
       "      <th>3</th>\n",
       "      <td>200</td>\n",
       "      <td>400</td>\n",
       "    </tr>\n",
       "  </tbody>\n",
       "</table>\n",
       "</div>"
      ],
      "text/plain": [
       "     a    b\n",
       "0  100  100\n",
       "1  200  200\n",
       "2  100  300\n",
       "3  200  400"
      ]
     },
     "execution_count": 28,
     "metadata": {},
     "output_type": "execute_result"
    }
   ],
   "source": [
    "df.head()"
   ]
  },
  {
   "cell_type": "code",
   "execution_count": 29,
   "id": "cd6fb9bb",
   "metadata": {},
   "outputs": [],
   "source": [
    "df_calc = df.copy()"
   ]
  },
  {
   "cell_type": "code",
   "execution_count": 30,
   "id": "1750bd91",
   "metadata": {},
   "outputs": [],
   "source": [
    "df_calc['percentage_sharp_drop'] = (((df.iloc[-2]['a'] - df.iloc[-1]['a']) / df.iloc[-2]['a'] ) * 100)"
   ]
  },
  {
   "cell_type": "code",
   "execution_count": 31,
   "id": "712088c7",
   "metadata": {},
   "outputs": [
    {
     "data": {
      "text/html": [
       "<div>\n",
       "<style scoped>\n",
       "    .dataframe tbody tr th:only-of-type {\n",
       "        vertical-align: middle;\n",
       "    }\n",
       "\n",
       "    .dataframe tbody tr th {\n",
       "        vertical-align: top;\n",
       "    }\n",
       "\n",
       "    .dataframe thead th {\n",
       "        text-align: right;\n",
       "    }\n",
       "</style>\n",
       "<table border=\"1\" class=\"dataframe\">\n",
       "  <thead>\n",
       "    <tr style=\"text-align: right;\">\n",
       "      <th></th>\n",
       "      <th>a</th>\n",
       "      <th>b</th>\n",
       "      <th>percentage_sharp_drop</th>\n",
       "    </tr>\n",
       "  </thead>\n",
       "  <tbody>\n",
       "    <tr>\n",
       "      <th>0</th>\n",
       "      <td>100</td>\n",
       "      <td>100</td>\n",
       "      <td>-100.0</td>\n",
       "    </tr>\n",
       "    <tr>\n",
       "      <th>1</th>\n",
       "      <td>200</td>\n",
       "      <td>200</td>\n",
       "      <td>-100.0</td>\n",
       "    </tr>\n",
       "    <tr>\n",
       "      <th>2</th>\n",
       "      <td>100</td>\n",
       "      <td>300</td>\n",
       "      <td>-100.0</td>\n",
       "    </tr>\n",
       "    <tr>\n",
       "      <th>3</th>\n",
       "      <td>200</td>\n",
       "      <td>400</td>\n",
       "      <td>-100.0</td>\n",
       "    </tr>\n",
       "  </tbody>\n",
       "</table>\n",
       "</div>"
      ],
      "text/plain": [
       "     a    b  percentage_sharp_drop\n",
       "0  100  100                 -100.0\n",
       "1  200  200                 -100.0\n",
       "2  100  300                 -100.0\n",
       "3  200  400                 -100.0"
      ]
     },
     "execution_count": 31,
     "metadata": {},
     "output_type": "execute_result"
    }
   ],
   "source": [
    "df_calc.head()"
   ]
  },
  {
   "cell_type": "code",
   "execution_count": 23,
   "id": "845682e2",
   "metadata": {},
   "outputs": [
    {
     "data": {
      "text/plain": [
       "100"
      ]
     },
     "execution_count": 23,
     "metadata": {},
     "output_type": "execute_result"
    }
   ],
   "source": [
    "abs(df.iloc[-2]['a'] - df.iloc[-1]['a'] ) "
   ]
  },
  {
   "cell_type": "code",
   "execution_count": 24,
   "id": "c41a1205",
   "metadata": {},
   "outputs": [
    {
     "data": {
      "text/plain": [
       "400"
      ]
     },
     "execution_count": 24,
     "metadata": {},
     "output_type": "execute_result"
    }
   ],
   "source": [
    " df.iloc[-1]['a']"
   ]
  },
  {
   "cell_type": "code",
   "execution_count": 18,
   "id": "f0348330",
   "metadata": {},
   "outputs": [
    {
     "data": {
      "text/plain": [
       "0.25"
      ]
     },
     "execution_count": 18,
     "metadata": {},
     "output_type": "execute_result"
    }
   ],
   "source": [
    "100/400"
   ]
  },
  {
   "cell_type": "code",
   "execution_count": null,
   "id": "ad78fe41",
   "metadata": {},
   "outputs": [],
   "source": [
    "1530"
   ]
  },
  {
   "cell_type": "code",
   "execution_count": 47,
   "id": "8a8b08c1",
   "metadata": {},
   "outputs": [],
   "source": [
    "from pathlib import Path\n",
    "from typing import List, Dict\n",
    "\n",
    "def _load_tickers(path: str = \"../../../resource/tickers.txt\") -> List[str]:\n",
    "    f = Path(path)\n",
    "    if not f.exists():\n",
    "        print(\"Nai desu :V\")\n",
    "        exit(1)\n",
    "        return [\"7203.T\", \"6758.T\", \"9984.T\", \"8306.T\", \"9432.T\"]\n",
    "\n",
    "    return [\n",
    "        line.strip()\n",
    "        for line in f.read_text(encoding=\"utf‑8\").splitlines()\n",
    "        if line.strip() and not line.lstrip().startswith(\"#\")\n",
    "    ]"
   ]
  },
  {
   "cell_type": "code",
   "execution_count": 48,
   "id": "2d12dfea",
   "metadata": {},
   "outputs": [],
   "source": [
    "list = _load_tickers()"
   ]
  },
  {
   "cell_type": "code",
   "execution_count": 49,
   "id": "46dbd36b",
   "metadata": {},
   "outputs": [
    {
     "name": "stdout",
     "output_type": "stream",
     "text": [
      "['1333.T', '1379.T', '1605.T', '1662.T', '1663.T', '1719.T', '1721.T', '1801.T', '1802.T', '1803.T', '1808.T', '1812.T', '1820.T', '1860.T', '1893.T']\n",
      "['1911.T', '1925.T', '1928.T', '1942.T', '1944.T', '1951.T', '1959.T', '1963.T', '2002.T', '2201.T', '2206.T', '2212.T', '2222.T', '2229.T', '2264.T']\n",
      "['2267.T', '2269.T', '2282.T', '2501.T', '2502.T', '2503.T', '2531.T', '2579.T', '2587.T', '2593.T', '2607.T', '2801.T', '2802.T', '2809.T', '2810.T']\n",
      "['2811.T', '2871.T', '2875.T', '2897.T', '2914.T', '3101.T', '3401.T', '3402.T', '3405.T', '3407.T', '3436.T', '3861.T', '3863.T', '3865.T', '3941.T']\n",
      "['4004.T', '4005.T', '4021.T', '4042.T', '4043.T', '4061.T', '4063.T', '4063.T', '4088.T', '4091.T', '4118.T', '4151.T', '4182.T', '4183.T', '4186.T']\n",
      "['4188.T', '4202.T', '4203.T', '4204.T', '4205.T', '4208.T', '4272.T', '4452.T', '4502.T', '4502.T', '4503.T', '4506.T', '4507.T', '4516.T', '4519.T']\n",
      "['4523.T', '4527.T', '4528.T', '4530.T', '4536.T', '4540.T', '4552.T', '4565.T', '4568.T', '4543.T', '4578.T', '4587.T', '4612.T', '4613.T', '4631.T']\n",
      "['4661.T', '4681.T', '4689.T', '4887.T', '4901.T', '4911.T', '4912.T', '4922.T', '4927.T', '4967.T', '4980.T', '5019.T', '5020.T', '5021.T', '5076.T']\n",
      "['5101.T', '5105.T', '5108.T', '5110.T', '5201.T', '5214.T', '5232.T', '5233.T', '5301.T', '5332.T', '5333.T', '5334.T', '5401.T', '5406.T', '5411.T']\n",
      "['5423.T', '5444.T', '5463.T', '5471.T', '5706.T', '5711.T', '5713.T', '5714.T', '5727.T', '5801.T', '5802.T', '6146.T', '6301.T', '6326.T', '6361.T']\n",
      "['6201.T', '6367.T', '6479.T', '6501.T', '6586.T', '6503.T', '6505.T', '6506.T', '6508.T', '6526.T', '6541.T', '6549.T', '6574.T', '6592.T', '6594.T']\n",
      "['6606.T', '6619.T', '6620.T', '6640.T', '6644.T', '6645.T', '6648.T', '6659.T', '6694.T', '6701.T', '6702.T', '6723.T', '6724.T', '6732.T', '6750.T']\n",
      "['6752.T', '6753.T', '6754.T', '6755.T', '6758.T', '6758.T', '6762.T', '6770.T', '6773.T', '6787.T', '6794.T', '6798.T', '6806.T', '6807.T', '6817.T']\n",
      "['6837.T', '6841.T', '6851.T', '6856.T', '6857.T', '6861.T', '6869.T', '6879.T', '6888.T', '6901.T', '6902.T', '6907.T', '6920.T', '6925.T', '6937.T']\n",
      "['6951.T', '6954.T', '6955.T', '6963.T', '6965.T', '6967.T', '6971.T', '6981.T', '6988.T', '6988.T', '6988.T', '6991.T', '7201.T', '7202.T', '7203.T']\n",
      "['7004.T', '7011.T', '7012.T', '7201.T', '7202.T', '7203.T', '7211.T', '7236.T', '7267.T', '7267.T', '7269.T', '7270.T', '7272.T', '7733.T', '7751.T']\n",
      "['7974.T', '8002.T', '8015.T', '8031.T', '8031.T', '8035.T', '8035.T', '8037.T', '8053.T', '8058.T', '8113.T', '8113.T', '8256.T', '8267.T', '8306.T']\n",
      "['8308.T', '8316.T', '8411.T', '8591.T', '8601.T', '8604.T', '8630.T', '8725.T', '8750.T', '8766.T', '8801.T', '8802.T', '8830.T', '9020.T', '9021.T']\n",
      "['9022.T', '9101.T', '9113.T', '9104.T', '9158.T', '9202.T', '9201.T', '9432.T', '9433.T', '9434.T', '9602.T', '9735.T', '9737.T', '9983.T', '9984.T']\n"
     ]
    }
   ],
   "source": [
    "batch_size = 15\n",
    "increment = 0\n",
    "while increment + batch_size < len(list):\n",
    "\n",
    "    print(list[increment:increment + batch_size])\n",
    "\n",
    "    increment += batch_size\n",
    "\n",
    "print(list[increment:len(list)])"
   ]
  },
  {
   "cell_type": "code",
   "execution_count": 55,
   "id": "ba916a9a",
   "metadata": {},
   "outputs": [
    {
     "name": "stdout",
     "output_type": "stream",
     "text": [
      "shell-init: error retrieving current directory: getcwd: cannot access parent directories: No such file or directory\n",
      "The folder you are executing pip from can no longer be found.\n"
     ]
    }
   ],
   "source": [
    "!pip install yfinance"
   ]
  },
  {
   "cell_type": "code",
   "execution_count": 150,
   "id": "85510413",
   "metadata": {},
   "outputs": [],
   "source": [
    "# data_collector.py – v3 (file‑based persistence)\n",
    "from __future__ import annotations\n",
    "from typing import List, Dict, Tuple, Set\n",
    "from datetime import datetime\n",
    "from zoneinfo import ZoneInfo\n",
    "from pathlib import Path\n",
    "\n",
    "import csv\n",
    "\n",
    "import yfinance as yf\n",
    "import pandas as pd\n",
    "import ta\n",
    "\n",
    "\n",
    "# ──────────────────────────────────────────────────────────────────────────────\n",
    "# Configuration\n",
    "# ──────────────────────────────────────────────────────────────────────────────\n",
    "\n",
    "TZ = ZoneInfo(\"Asia/Tokyo\")\n",
    "TODAY: str = datetime.now(TZ).date().isoformat()  # e.g., \"2025-05-11\"\n",
    "# ALERTS_FILE: Path = Path(__file__).with_name(\"data/alerts_log.csv\")\n",
    "ALERTS_FILE: Path = Path(\"/home/mhr/Documents/programming/trading-bot/tse-trading-bot/devs/pocs/pandas_test/data/alerts_log.csv\")\n",
    "\n",
    "\n",
    "# ──────────────────────────────────────────────────────────────────────────────\n",
    "# Lightweight file‑based persistence (CSV)\n",
    "# ──────────────────────────────────────────────────────────────────────────────\n",
    "\n",
    "# Row schema: alert_date,ticker,alert_type\n",
    "_alert_cache: Set[Tuple[str, str, str, int]] | None = None\n",
    "\n",
    "\n",
    "def _load_alert_cache() -> None:\n",
    "    global _alert_cache\n",
    "    if _alert_cache is not None:\n",
    "        return  # already loaded\n",
    "\n",
    "    _alert_cache = set()\n",
    "    if ALERTS_FILE.exists():\n",
    "        with ALERTS_FILE.open(\"r\", newline=\"\") as f:\n",
    "            reader = csv.reader(f)\n",
    "            for row in reader:\n",
    "                if len(row) == 4:\n",
    "                    _alert_cache.add(tuple(row))\n",
    "\n",
    "\n",
    "def _already_alerted(ticker: str, alert_type: str, price: int) -> bool:\n",
    "    _load_alert_cache()\n",
    "    assert _alert_cache is not None\n",
    "    return (TODAY, ticker, alert_type) in _alert_cache\n",
    "\n",
    "\n",
    "def _mark_alert(ticker: str, alert_type: str, price: int) -> None:\n",
    "    _load_alert_cache()\n",
    "    assert _alert_cache is not None\n",
    "    key = (TODAY, ticker, alert_type, price)\n",
    "    if key in _alert_cache:\n",
    "        return  # already recorded\n",
    "\n",
    "    # Append to file first (so even if script crashes later we don’t lose the entry)\n",
    "    with ALERTS_FILE.open(\"a\", newline=\"\") as f:\n",
    "        writer = csv.writer(f)\n",
    "        writer.writerow(key)\n",
    "\n",
    "    _alert_cache.add(key)"
   ]
  },
  {
   "cell_type": "code",
   "execution_count": 151,
   "id": "ed9eb50f",
   "metadata": {},
   "outputs": [],
   "source": [
    "results = []\n",
    "results.append(\n",
    "                {\n",
    "                    \"Ticker\": \"12312.T\",\n",
    "                    \"BUY_SIGNAL\":\"BUY\",\n",
    "                    \"Price\": 123.12,\n",
    "                    \"BuySignal\": \"Confluence\",\n",
    "                    \"RSI\": 45,\n",
    "                    \"MACD Signal\": \"Buy\", \n",
    "                    \"Support\": 120.11,\n",
    "                    \"Resistance\": 170.22,\n",
    "                    \"Name\": \"name\",\n",
    "                }\n",
    "            )"
   ]
  },
  {
   "cell_type": "code",
   "execution_count": 152,
   "id": "6db1e4fd",
   "metadata": {},
   "outputs": [
    {
     "data": {
      "text/plain": [
       "'12312.T'"
      ]
     },
     "execution_count": 152,
     "metadata": {},
     "output_type": "execute_result"
    }
   ],
   "source": [
    "results[0]['Ticker']"
   ]
  },
  {
   "cell_type": "code",
   "execution_count": 155,
   "id": "bf20c764",
   "metadata": {},
   "outputs": [
    {
     "data": {
      "text/plain": [
       "False"
      ]
     },
     "execution_count": 155,
     "metadata": {},
     "output_type": "execute_result"
    }
   ],
   "source": [
    "_already_alerted(ticker=results[0]['Ticker'],\n",
    "                 alert_type=\"buy\",\n",
    "                 price=int(results[0]['Price']))"
   ]
  },
  {
   "cell_type": "code",
   "execution_count": 154,
   "id": "e2bd90c0",
   "metadata": {},
   "outputs": [],
   "source": [
    "_mark_alert(ticker=results[0]['Ticker'],\n",
    "                 alert_type=\"buy\",\n",
    "                 price=int(results[0]['Price']))"
   ]
  },
  {
   "cell_type": "code",
   "execution_count": null,
   "id": "b329ebab",
   "metadata": {},
   "outputs": [],
   "source": []
  },
  {
   "cell_type": "code",
   "execution_count": null,
   "id": "71db64af",
   "metadata": {},
   "outputs": [],
   "source": []
  }
 ],
 "metadata": {
  "kernelspec": {
   "display_name": "base",
   "language": "python",
   "name": "python3"
  },
  "language_info": {
   "codemirror_mode": {
    "name": "ipython",
    "version": 3
   },
   "file_extension": ".py",
   "mimetype": "text/x-python",
   "name": "python",
   "nbconvert_exporter": "python",
   "pygments_lexer": "ipython3",
   "version": "3.11.7"
  }
 },
 "nbformat": 4,
 "nbformat_minor": 5
}
